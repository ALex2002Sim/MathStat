{
 "cells": [
  {
   "cell_type": "code",
   "execution_count": 33,
   "metadata": {},
   "outputs": [],
   "source": [
    "import numpy as np\n",
    "import matplotlib.pyplot as plt\n",
    "from scipy import stats\n",
    "import pandas as pd"
   ]
  },
  {
   "cell_type": "markdown",
   "metadata": {},
   "source": [
    "## 1. Постановка задачи оценивания\n",
    "\n",
    "Пусть $(x_n)$ - выборка, т.е. $n$ независимых испытаний случайной величины $X$, имеющей функцию распределения $F(x / a)$, зависящую от параметра $a$, значение которого неизвестно. Требуется оценить значение параметра $a$. \n",
    "\n",
    "Оценкой $\\widehat{a} = \\varphi(x_1, ..., x_n)$ называется функция наблюдений, используемая для приближенного определения неизвестного параметра. Значение  оценки является случайной величиной, поскольку $(x_1, ..., x_n)$ - случайная величина (многомерная)\n",
    "\n",
    "### Свойства оценок\n",
    "1) Оценка $\\widehat{a} = \\varphi(x_1, ..., x_n)$ называется состоятельной, если при $ n \\rightarrow \\infty$ $ \\widehat{a} \\rightarrow a$ по вероятности $\\forall a$.\n",
    "2) Оценка $\\widehat{a} = \\varphi(x_1, ..., x_n)$ называется несмещенной, если $\\forall a$ $M\\widehat{a} = M\\varphi(x_1, ..., x_n) = a$.\n",
    "3) Оценка $\\varphi^*$ называется оптимальной, если для неё средний квадрат ошибки \n",
    "$M[\\widehat{a}- a]^2= M[\\varphi^*(x_1, ..., x_n) - a]^2= \\min M[\\varphi(x_1, ..., x_n) - a]^2$ минимален среди всех оценок $(\\varphi)$\n",
    "\n",
    "### Метод моментов\n",
    "Пусть $(\\xi_n)$ - выборка, т.е. $n$ независимых наблюдений над случайной величиной $\\xi_0$. $F(x; a_1,... , a_r)$ - функция распределения, зависящая от неизвестных параметров $a = (a_1,... , a_r)$. Требуется оценить их.\n",
    "Идея: неизвестные параметры выразить через начальные моменты, а затем вместо моментов подставить несмещенные и состоятельные оценки моментов.\n",
    "\n",
    "$$\n",
    "\\displaystyle m_1 = \\int \\limits_{-\\infty}^{\\infty}xdF(x; a_1,... , a_r) = f_1(a_1,... , a_r)\\\\\n",
    "\n",
    "...\\\\\n",
    "\n",
    "\\displaystyle m_r = \\int \\limits_{-\\infty}^{\\infty}x^r dF(x; a_1,... , a_r) = f_r(a_1,... , a_r)\n",
    "$$\n",
    "\n",
    "Отсюда\n",
    "$$\n",
    "a_j = g_j(m_1, ..., m_r), \\quad j \\in [1, r] \\cap \\mathbb{N}\n",
    "$$\n",
    "\n",
    "Подставив вместо моментов $m_1, ..., m_r$ их  оценки $\\widehat{m_1}, ..., \\widehat{m_r}$ получим \n",
    "$$\n",
    "\\displaystyle \\widehat{a_j} = g_j(\\widehat{m_1}, ..., \\widehat{m_r}), \\quad \\widehat{m_k} = \\frac{1}{n}\\sum_{i=1}^{n}\\xi_i^k,\\quad j, k \\in [1, r] \\cap \\mathbb{N}\n",
    "$$\n",
    "\n",
    "### Метод максимального правдоподобия\n",
    "Пусть $(\\xi_n)$ - выборка. $q(x_i, a)$ - распределение $i$-ого наблюдения, $a = (a_1,... , a_r)$ - неизвестный параметр. $p_{\\xi}(x;a) = \\prod_{i=1}^{n}q(x_i, a)$ - распределение выборки $x = (x_n)$. Функция $p_{\\xi}(x;a)$, как функция параметра $a$, при фиксированном $x$,  называется функцией правдоподобия. Оценкой максимального правдоподобия $a^*$ параметра $a$ называется такое значение, при котором функция правдоподобия $p_{\\xi}(x;a)$ достигает максимума:\n",
    "$$\n",
    "a^*: p_{\\xi}(x;a) = \\max_a p_{\\xi}(x;a)\n",
    "$$\n",
    "Если максимум достигается во внутренней точке области определения функции, то $a^*$ удовлетворяет системе уравнений:\n",
    "$$\n",
    "\\displaystyle \\frac{\\partial \\log{p_{\\xi}(x;a)}}{\\partial a_i} \\Big|_{a=a^*} = 0, \\quad i \\in [1, r] \\cap \\mathbb{N}\n",
    "$$\n",
    "Использование логарифма не изменяет точки максимума, но упрощает выкладки при независимых наблюдениях. Оценка $a^*= a^*(x)$ является функцией наблюдений $x$. Чтобы подчеркнуть случайность аргумента, напишем $a^*(\\xi)$.\n",
    "\n",
    "### Метод порядковых статистик\n",
    "Метод основан на оценках $\\zeta_p$ при разных $p$. Пусть $(\\xi_n)$ - выборка с $F(x; a)$, зависящей от параметра $a$, значение которого требуется оценить. Выберем $p$ так, чтобы квантиль $x_p$ зависела от параметра:\n",
    "$$\n",
    "x_p = f(a)\n",
    "$$\n",
    "Тогда получим\n",
    "$$\n",
    "a = g(x_p)\n",
    "$$\n",
    "Вместо $x_p$ подставим выборочную квантиль $\\zeta_p = \\xi_{[np]+1}$, в результате чего получим состоятельную оценку\n",
    "$$\n",
    "\\widehat{a} = g(\\xi_{[np]+1})\n",
    "$$\n",
    "Таким же образом можно построить оценки и для многомерного параметра.\n",
    "\n",
    "### Статистическое сравнение оценок\n",
    "Далеко не всегда удается аналитически вычислить дисперсию оценки. Как экспериментально определить, какой из оценок пользоваться?\n",
    "Характеристиками разброса значений $(a_k)$ оценки $\\widehat{a}$ будем считать размах\n",
    "$$\n",
    "w = \\max{a_i} - \\min{a_i}\n",
    "$$\n",
    "и среднеквадратичное отклонение (СКО)\n",
    "$$\n",
    "\\displaystyle S_a = \\sqrt{\\frac{1}{k-1} \\sum_{i=1}^k (a_i - \\overline{a})^2 }, \\qquad \\overline{a} = \\frac{1}{k}\\sum_{i=1}^k a_i\n",
    "$$"
   ]
  },
  {
   "cell_type": "markdown",
   "metadata": {},
   "source": [
    "## 2.Результаты экспериментов\n",
    "\n",
    "По выборке $(x_n)$ для случайной величины $X \\sim \\mathcal{R}[0, a]$ оценить параметр $a$.\n",
    "Сравним три оценки\n",
    "Метод моментов\n",
    "$$\n",
    "\\displaystyle \\widehat{a_1} = \\frac{2}{n}\\sum_{i=1}^{n}x_i\n",
    "$$\n",
    "Метод максимального правдоподобия (исправлена смещённость)\n",
    "$$\n",
    "\\displaystyle \\widehat{a_2} = \\frac{n+1}{n}\\max x_i\n",
    "$$\n",
    "Метод порядковых статистик\n",
    "$$\n",
    "\\displaystyle \\widehat{a_3} = 2 \\cdot \\widehat{x}_{0.5} = x_k + x_{k+1},\n",
    "$$\n",
    "где $\\widehat{x}_{0.5} = \\frac{x_k + x_{k+1}}{2}$- выборочная квантиль порядка 0.5, т.е. выборочная медиана. $x_k$ - член вариационного ряда (полагаем $n = 2k$)."
   ]
  },
  {
   "cell_type": "code",
   "execution_count": 34,
   "metadata": {},
   "outputs": [
    {
     "name": "stdout",
     "output_type": "stream",
     "text": [
      "СКО для оценки (a1 = 1.2524) по выборке размера 10: 0.6997\n",
      "СКО для оценки (a1 = 0.9092) по выборке размера 40: 0.5440\n",
      "СКО для оценки (a1 = 1.0834) по выборке размера 160: 0.6118\n",
      "\n",
      "\n",
      "СКО для оценки (a2 = 1.0630) по выборке размера 10: 0.5157\n",
      "СКО для оценки (a2 = 0.9763) по выборке размера 40: 0.6025\n",
      "СКО для оценки (a2 = 0.9990) по выборке размера 160: 0.5380\n",
      "\n",
      "\n",
      "СКО для оценки (a3 = 1.2949) по выборке размера 10: 0.7421\n",
      "СКО для оценки (a3 = 0.9188) по выборке размера 40: 0.5522\n",
      "СКО для оценки (a3 = 1.0847) по выборке размера 160: 0.6129\n",
      "\n",
      "\n"
     ]
    }
   ],
   "source": [
    "sizes = [10, 40, 160]\n",
    "arr_uniform = {size: np.random.uniform(0, 1, size) for size in sizes}\n",
    "\n",
    "def sd(arr: np.array, a: np.float64)->np.float64:\n",
    "    k = len(arr)\n",
    "    return np.sqrt(1/(k-1)*sum([(elem - a)**2 for elem in arr]))\n",
    "\n",
    "a1 = {size: 2*arr_uniform[size].mean() for size in sizes}\n",
    "a2 = {size: (len(arr_uniform[size])+1)/len(arr_uniform[size])*max(arr_uniform[size]) for size in sizes}\n",
    "a3 = {size: 2*np.median(arr_uniform[size]) for size in sizes}\n",
    "\n",
    "sd1 = {size: sd(arr_uniform[size], a1[size]) for size in sizes}\n",
    "sd2 = {size: sd(arr_uniform[size], a2[size]) for size in sizes}\n",
    "sd3 = {size: sd(arr_uniform[size], a3[size]) for size in sizes}\n",
    "\n",
    "for i, (sd_, a_) in enumerate(zip([sd1, sd2, sd3], [a1, a2, a3])):\n",
    "    for size in sizes:\n",
    "        print(f\"СКО для оценки (a{i+1} = {a_[size]:.4f}) по выборке размера {size}: {sd_[size]:.4f}\")\n",
    "    print(\"\\n\")"
   ]
  },
  {
   "cell_type": "markdown",
   "metadata": {},
   "source": [
    "## 3. Конкретная задача\n",
    "\n",
    "Количество производственных травм за время $T$ является случайной величиной с распределением $\\mathcal{P}(\\lambda T)$. Поквартальные данные за $k$ лет оказались $(x_n)$, $ n =4k$. Если за год число травм оказывается равным $N$ и более, завод подвергается штрафу и проверке. Оценить вероятность этого события в следующем году. Поквартальные данные получить моделированием; среднее значение принять $m$.\n",
    "\n",
    "$$\n",
    "k=5, \\quad N=40, \\quad m=8, \\quad n=4k=20\n",
    "$$\n",
    "1 год $=$ 4 квартала, так как мы рассматриваем количество травм за год, то $T = 4$.\n",
    "\n",
    "### Решение\n",
    "\n",
    "По наблюдениям $(x_n)$ $(n = 20)$ над случайной величиной $X$ с распределением $\\mathcal{P}(\\lambda T)$ оценить вероятность\n",
    "$$\n",
    "P\\left \\{ \\xi \\geq N \\right \\} = 1 - P\\left \\{ \\xi < N \\right \\} = 1 - P\\left \\{ \\xi < 40 \\right \\}\n",
    "$$\n",
    "Так как $\\xi $- случайная величина с распределением $\\mathcal{P}(4\\lambda)$, то\n",
    "$$\n",
    "\\displaystyle P\\left \\{ \\xi < 40 \\right \\} = \\sum_{i=1}^{40} \\frac{(4\\lambda)^k}{k!}e^{-4\\lambda}\n",
    "$$\n",
    "Построим оценку максимального правдоподобия для параметра $\\lambda$. Для величины с распределением $\\mathcal{P}(\\lambda)$ имеем\n",
    "$$\n",
    "\\displaystyle P\\left \\{ x = k \\right \\} = \\frac{\\lambda^k} {k!}e^{-\\lambda}\n",
    "$$\n",
    "Тогда для выборки получим \n",
    "$$\n",
    "\\displaystyle p_{\\xi}(x; \\lambda) =\\prod_{i=1}^n \\frac{\\lambda^{x_i}} {x_i!}e^{-\\lambda} = \\frac{\\lambda^{\\sum_{i=1}^n x_i}} {\\prod_{i=1}^n x_i!}e^{-\\lambda n}\n",
    "$$\n",
    "Найдём максимум функции правдоподобия:\n",
    "$$\n",
    "\\displaystyle \\log{\\left [ \\frac{\\lambda^{\\sum_{i=1}^n x_i}} {\\prod_{i=1}^n x_i!}e^{-\\lambda n} \\right ] } = -\\lambda n + \\log{\\lambda} \\sum_{i=1}^n x_i - \\log{\\left [ \\prod_{i=1}^n x_i! \\right ]} \\\\\n",
    "\\displaystyle \\implies \\frac{d}{d\\lambda}\\left(-\\lambda n + \\log{\\lambda} \\sum_{i=1}^n x_i - \\log{\\left [ \\prod_{i=1}^n x_i! \\right ]} \\right) = -n + \\frac{1}{\\lambda}\\sum_{i=1}^n x_i = 0\\\\\n",
    "\\displaystyle \\implies \\widehat{\\lambda} = \\frac{1}{n}\\sum_{i=1}^n x_i\n",
    "$$\n",
    "Получим значение $\\widehat{\\lambda}$ по исходным данным"
   ]
  },
  {
   "cell_type": "code",
   "execution_count": 35,
   "metadata": {},
   "outputs": [
    {
     "data": {
      "text/plain": [
       "np.float64(7.2)"
      ]
     },
     "execution_count": 35,
     "metadata": {},
     "output_type": "execute_result"
    }
   ],
   "source": [
    "x = np.array([4, 4, 13, 7, 2, 9, 7, 5, 8, 10, 2, 5, 9, 11, 6, 6, 7, 8, 12, 9])\n",
    "x.mean()"
   ]
  },
  {
   "cell_type": "markdown",
   "metadata": {},
   "source": [
    "Тогда получим следующую оценку для вероятности\n",
    "$$\n",
    "\\displaystyle \\widehat{p} = P\\left \\{ \\xi \\geq 40 \\right \\} = 1 - \\sum_{i=1}^{40} \\frac{(4 \\cdot 7.2)^k}{k!}e^{-4 \\cdot 7.2} \\approx 0.028\n",
    "$$"
   ]
  },
  {
   "cell_type": "markdown",
   "metadata": {},
   "source": [
    "В случае, если бы мы искали вероятность по известному значению $m = 8$, то получили бы следующее значение\n",
    "$$\n",
    "\\displaystyle \\tilde{p} = P\\left \\{ \\xi \\geq 40 \\right \\} = 1 - \\sum_{i=1}^{40} \\frac{(4 \\cdot 8)^k}{k!}e^{-4 \\cdot 8} \\approx 0.096\n",
    "$$"
   ]
  }
 ],
 "metadata": {
  "kernelspec": {
   "display_name": "venv",
   "language": "python",
   "name": "python3"
  },
  "language_info": {
   "codemirror_mode": {
    "name": "ipython",
    "version": 3
   },
   "file_extension": ".py",
   "mimetype": "text/x-python",
   "name": "python",
   "nbconvert_exporter": "python",
   "pygments_lexer": "ipython3",
   "version": "3.13.2"
  }
 },
 "nbformat": 4,
 "nbformat_minor": 2
}
